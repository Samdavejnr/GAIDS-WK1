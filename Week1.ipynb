{
 "cells": [
  {
   "cell_type": "code",
   "execution_count": 1,
   "metadata": {},
   "outputs": [
    {
     "name": "stdout",
     "output_type": "stream",
     "text": [
      "\n",
      "You chose: scissors\n",
      "Computer chose: scissors\n",
      "\n",
      "It's a tie!!!\n"
     ]
    }
   ],
   "source": [
    "import random \n",
    "choices = [\"rock\", \"paper\", \"scissors\"]\n",
    "def get_user_choice():\n",
    "    while True:\n",
    "        user_choice = input('Enter your choice (rock, paper, or scissors):').lower()\n",
    "        if user_choice in choices:\n",
    "            return user_choice\n",
    "        else:\n",
    "            print('Invalid choice. Please try again.')\n",
    "def get_computer_choice():\n",
    "    return random.choice(choices)\n",
    "def determine_winner(user_choice, computer_choice):\n",
    "    if user_choice == computer_choice:\n",
    "        return \"It's a tie!!!\"\n",
    "    elif (user_choice == \"rock\" and \n",
    "computer_choice == \" scissors\") or \\\n",
    "        (user_choice == \"paper\" and \n",
    "computer_choice == \"rock\") or \\\n",
    "        (user_choice == \"scissors\" and computer_choice == \"paper\"):\n",
    "        return \"You win!!!\"\n",
    "    else:\n",
    "        return \"Computer wins!!!\"\n",
    "while True: \n",
    "    user_choice = get_user_choice()\n",
    "    computer_choice = get_computer_choice()\n",
    "    print(f\"\\nYou chose: {user_choice}\")\n",
    "    print(f\"Computer chose: {computer_choice}\\n\")\n",
    "    print(determine_winner(user_choice, computer_choice))\n",
    "    play_again = input(\"\\nDO you want to play again? (yes/no): \").lower()\n",
    "    if play_again != \"yes\":\n",
    "        break"
   ]
  },
  {
   "cell_type": "code",
   "execution_count": null,
   "metadata": {},
   "outputs": [],
   "source": []
  }
 ],
 "metadata": {
  "kernelspec": {
   "display_name": "Python 3",
   "language": "python",
   "name": "python3"
  },
  "language_info": {
   "codemirror_mode": {
    "name": "ipython",
    "version": 3
   },
   "file_extension": ".py",
   "mimetype": "text/x-python",
   "name": "python",
   "nbconvert_exporter": "python",
   "pygments_lexer": "ipython3",
   "version": "3.12.4"
  }
 },
 "nbformat": 4,
 "nbformat_minor": 2
}
